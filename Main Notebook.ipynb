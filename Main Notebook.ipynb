{
 "cells": [
  {
   "cell_type": "code",
   "execution_count": 13,
   "metadata": {},
   "outputs": [],
   "source": [
    "import os\n",
    "import sys\n",
    "sys.path.insert(0, os.path.abspath('Fall 2019/Computation Phys Lab'))\n",
    "import numpy as np\n",
    "import matplotlib.pyplot as plt\n",
    "%matplotlib inline\n",
    "import matplotlib\n",
    "from matplotlib import rcParams\n",
    "rcParams.update({'figure.autolayout': True})\n",
    "matplotlib.rcParams['mathtext.fontset'] = 'stix'\n",
    "matplotlib.rcParams['font.family'] = 'serif'\n",
    "matplotlib.rcParams['font.sans-serif'] = 'stix'\n",
    "from scipy import integrate\n",
    "import AnimGIF as anim"
   ]
  },
  {
   "cell_type": "code",
   "execution_count": 14,
   "metadata": {},
   "outputs": [],
   "source": [
    "def df_Nbody(v0, t, M, ϵ = 0.0005):\n",
    "    Nbody = len(M)\n",
    "    half = Nbody * 3\n",
    "    end = Nbody * 6\n",
    "    pos = v0[0:half]\n",
    "    velo = v0[half:end]\n",
    "\n",
    "    x = np.array(pos[0::3])\n",
    "    y = np.array(pos[1::3])\n",
    "    z = np.array(pos[2::3])\n",
    "    vx = np.array(velo[0::3])\n",
    "    vy = np.array(velo[1::3])\n",
    "    vz = np.array(velo[2::3]) \n",
    "    \n",
    "    Dx = np.subtract.outer(x,x)\n",
    "    Dy = np.subtract.outer(y,y)\n",
    "    Dz = np.subtract.outer(z,z)\n",
    "    \n",
    "    #acc = dv/dt    \n",
    "    bracketx = Dx/((ϵ**2+Dx**2+Dy**2+Dz**2)**(3/2))\n",
    "    accex = -np.dot(bracketx, M)\n",
    "    \n",
    "    brackety = Dy/((ϵ**2+Dx**2+Dy**2+Dz**2)**(3/2))\n",
    "    accey = -np.dot(brackety, M)\n",
    "    \n",
    "    bracketz = Dz/((ϵ**2+Dx**2+Dy**2+Dz**2)**(3/2))\n",
    "    accez = -np.dot(bracketz, M)    \n",
    "    \n",
    "    dpos = np.zeros(3*Nbody)\n",
    "    dvelo = np.zeros(3*Nbody)\n",
    "    dpos[0::3] = velo[0::3]               \n",
    "    dpos[1::3] = velo[1::3]\n",
    "    dpos[2::3] = velo[2::3]\n",
    "    dvelo[0::3] = accex[0::1]\n",
    "    dvelo[1::3] = accey[0::1]\n",
    "    dvelo[2::3] = accez[0::1]\n",
    "\n",
    "    return np.array([dpos,dvelo]).flatten()"
   ]
  },
  {
   "cell_type": "code",
   "execution_count": 15,
   "metadata": {},
   "outputs": [],
   "source": [
    "# #initial conditions, in units where G=1\n",
    "# G = 1 \n",
    "# M1 = 1\n",
    "# M2 = 2\n",
    "# a = 1 \n",
    "\n",
    "# #kepler's laws\n",
    "# a1=a*M2/(M1+M2)\n",
    "# a2=a*M1/(M1+M2)\n",
    "# P=2.0*np.pi*np.sqrt(a**3/(G*(M1+M2)))\n",
    "# v1=2.0*np.pi*a1/P\n",
    "# v2=2.0*np.pi*a2/P\n",
    "\n",
    "\n",
    "# body1Pos = [a1,0,0] #(x,y,z)\n",
    "# body1Velo = [0,v1,0] #(vx,vy,vz)\n",
    "\n",
    "# body2Pos = [-a2,0,0] #(x,y,z)\n",
    "# body2Velo = [0,-v2,0] #(vx,vy,vz)\n",
    "\n"
   ]
  },
  {
   "cell_type": "code",
   "execution_count": 16,
   "metadata": {},
   "outputs": [],
   "source": [
    "G = 1\n",
    "P = 6.32449\n",
    "p1 = 0.347111\n",
    "p2 = 0.532728\n",
    "M1 = 1\n",
    "M2 = 1\n",
    "M3 = 1\n",
    "\n",
    "body1Pos = [-1,0,0]\n",
    "body1Velo = [p1,p2,0]\n",
    "\n",
    "body2Pos = [1,0,0]\n",
    "body2Velo = [p1,p2,0]\n",
    "\n",
    "body3Pos = [0,0,0]\n",
    "body3Velo = [-2*p1,-2*p2,0]"
   ]
  },
  {
   "cell_type": "code",
   "execution_count": 17,
   "metadata": {},
   "outputs": [],
   "source": [
    "tarr=np.linspace(0.0, P, 1000)\n",
    "mass = np.array([M1,M2, M3])\n",
    "pos = np.array([body1Pos, body2Pos, body3Pos]).flatten()\n",
    "velo = np.array([body1Velo, body2Velo, body3Velo]).flatten()\n",
    "v0 = np.array([pos, velo]).flatten()"
   ]
  },
  {
   "cell_type": "code",
   "execution_count": 18,
   "metadata": {},
   "outputs": [],
   "source": [
    "result2=integrate.odeint(df_Nbody,v0,tarr,args=(mass,))\n",
    "x1=result2[0:,0]\n",
    "y1=result2[0:,1]\n",
    "z1=result2[0:,2]\n",
    "\n",
    "x2=result2[0:,3]\n",
    "y2=result2[0:,4]\n",
    "z2=result2[0:,5]\n",
    "\n",
    "x3=result2[0:,6]\n",
    "y3=result2[0:,7]\n",
    "z3=result2[0:,8]"
   ]
  },
  {
   "cell_type": "code",
   "execution_count": 19,
   "metadata": {},
   "outputs": [
    {
     "data": {
      "image/png": "[encoded data removed]",
      "text/plain": [
       "<Figure size 504x504 with 1 Axes>"
      ]
     },
     "metadata": {
      "needs_background": "light"
     },
     "output_type": "display_data"
    }
   ],
   "source": [
    "fig2, ax2 = plt.subplots(figsize=(7,7))\n",
    "ax2.set_ylabel('y')\n",
    "ax2.set_xlabel('x')\n",
    "#ax.set_title()\n",
    "ax2.plot(x1,y1)\n",
    "ax2.plot(x2,y2)\n",
    "ax2.plot(x3,y3)\n",
    "#plt.legend()\n",
    "plt.grid()\n",
    "plt.show()"
   ]
  },
  {
   "cell_type": "code",
   "execution_count": null,
   "metadata": {},
   "outputs": [],
   "source": []
  },
  {
   "cell_type": "code",
   "execution_count": null,
   "metadata": {},
   "outputs": [],
   "source": []
  }
 ],
 "metadata": {
  "kernelspec": {
   "display_name": "Python 3",
   "language": "python",
   "name": "python3"
  },
  "language_info": {
   "codemirror_mode": {
    "name": "ipython",
    "version": 3
   },
   "file_extension": ".py",
   "mimetype": "text/x-python",
   "name": "python",
   "nbconvert_exporter": "python",
   "pygments_lexer": "ipython3",
   "version": "3.7.3"
  }
 },
 "nbformat": 4,
 "nbformat_minor": 2
}
