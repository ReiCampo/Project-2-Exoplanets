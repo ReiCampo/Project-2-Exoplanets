{
 "cells": [
  {
   "cell_type": "markdown",
   "metadata": {},
   "source": [
    "# Planets in Binary Star Systems"
   ]
  },
  {
   "cell_type": "markdown",
   "metadata": {},
   "source": [
    "*A 488 Computational Astrophysics Project by Tyler Barna<sup>1</sup>, Rachel Campo<sup>1</sup>, Jillian Mellen<sup>1</sup>, and Jonathan Zablin<sup>1</sup>*\n",
    "\n",
    "<small><sup>1</sup>Department of Physics and Astronomy, Rutgers, the State University of New Jersey, New Brunswick</small>"
   ]
  },
  {
   "cell_type": "markdown",
   "metadata": {},
   "source": [
    "## Dependencies\n",
    "\n"
   ]
  },
  {
   "cell_type": "code",
   "execution_count": 1,
   "metadata": {},
   "outputs": [],
   "source": [
    "import AnimGIF as anim\n",
    "import gravSolve as gs\n",
    "import matplotlib\n",
    "import matplotlib.pyplot as plt\n",
    "import numpy as np\n",
    "\n",
    "from astropy import constants as const\n",
    "from astropy import units as u\n",
    "from celluloid import Camera\n",
    "from matplotlib import rcParams\n",
    "from matplotlib.animation import FFMpegWriter\n",
    "from matplotlib.animation import FuncAnimation\n",
    "from mpl_toolkits.mplot3d import Axes3D\n",
    "from scipy import integrate\n",
    "\n",
    "\n",
    "matplotlib.rcParams['mathtext.fontset'] = 'stix'\n",
    "matplotlib.rcParams['font.family'] = 'serif'\n",
    "matplotlib.rcParams['font.sans-serif'] = 'stix'\n",
    "rcParams.update({'figure.autolayout': True})\n",
    "\n",
    "%matplotlib inline"
   ]
  },
  {
   "cell_type": "code",
   "execution_count": 2,
   "metadata": {},
   "outputs": [],
   "source": [
    "def plotter(x,y,z, proj=3):\n",
    "    result2=integrate.odeint(gs.df_Nbody,v0,tarr,args=(mass,))\n",
    "    x1=result2[0:,0]\n",
    "    y1=result2[0:,1]\n",
    "    z1=result2[0:,2]\n",
    "\n",
    "    x2=result2[0:,3]\n",
    "    y2=result2[0:,4]\n",
    "    z2=result2[0:,5]\n",
    "\n",
    "    x3=result2[0:,6]\n",
    "    y3=result2[0:,7]\n",
    "    z3=result2[0:,8]\n",
    "\n",
    "    vx1=result2[0:,9]\n",
    "    vy1=result2[0:,10]\n",
    "    vz1=result2[0:,11]\n",
    "\n",
    "    vx2=result2[0:,12]\n",
    "    vy2=result2[0:,13]\n",
    "    vz2=result2[0:,14]\n",
    "\n",
    "    vx3=result2[0:,15]\n",
    "    vy3=result2[0:,16]\n",
    "    vz3=result2[0:,17]\n",
    "    \n",
    "    \n",
    "    if proj==2:\n",
    "        fig = plt.figure(figsize=(7,7))\n",
    "        ax = fig.add_subplot(111)\n",
    "        if x==1:\n",
    "            ax.plot(x1,y1, 'b', label=\"Body 1\")\n",
    "        if y==1:\n",
    "            ax.plot(x2,y2, 'k', label=\"Body 2\")\n",
    "        if z==1:\n",
    "            ax.plot(x3,y3, 'r',label=\"Body 3\")\n",
    "    if proj==3:\n",
    "        fig = plt.figure(figsize=(7,7))\n",
    "        ax = fig.add_subplot(111, projection='3d')\n",
    "        if x==1:\n",
    "            ax.plot(x1,y1,z1, 'b', label=\"Body 1\")\n",
    "        if y==1:\n",
    "            ax.plot(x2,y2,z2, 'k', label=\"Body 2\")\n",
    "        if z==1:\n",
    "            ax.plot(x3,y3,z3, 'r',label=\"Body 3\")\n",
    "    plt.legend(loc='best')\n",
    "    plt.grid()\n",
    "    plt.show()"
   ]
  },
  {
   "cell_type": "code",
   "execution_count": 3,
   "metadata": {},
   "outputs": [
    {
     "name": "stderr",
     "output_type": "stream",
     "text": [
      "C:\\ProgramData\\Anaconda3\\lib\\site-packages\\ipykernel_launcher.py:35: DeprecationWarning: object of type <class 'float'> cannot be safely interpreted as an integer.\n"
     ]
    }
   ],
   "source": [
    "##units used: AU, Msun, yr\n",
    "G = const.G.to('AU**3/Msun*yr**2').value\n",
    "M1 = 0.6\n",
    "M2 = 0.0107\n",
    "M3 = 0\n",
    "e = 0.3300\n",
    "a = 0.0326\n",
    "\n",
    "\n",
    "## kepler's laws\n",
    "Mtot=M1+M2\n",
    "mu=M1*M2/Mtot\n",
    "ell=np.sqrt(G*Mtot*a*(1.0-e**2))\n",
    "P=2.0*np.pi*np.sqrt(a**3/(G*Mtot))\n",
    "\n",
    "## set initial conditions correpsonding to apoapsis\n",
    "rap=a*(1.0+e)\n",
    "vap=ell/rap\n",
    "\n",
    "## positions and velocities of the two stars\n",
    "R1=rap*mu/M1\n",
    "R2=rap*mu/M2\n",
    "v1=vap*mu/M1\n",
    "v2=vap*mu/M2\n",
    "\n",
    "\n",
    "body1Pos = [R1,0,0] ##(x,y,z)\n",
    "body1Velo = [0,v1,0] ##(vx,vy,vz)\n",
    "\n",
    "body2Pos = [-R2,0,0] ##(x,y,z)\n",
    "body2Velo = [0,-v2,0] ##(vx,vy,vz)\n",
    "\n",
    "body3Pos = [0,0,0]\n",
    "body3Velo = [0,0,0]\n",
    "tarr=np.linspace(0.0, P, 1e4)\n",
    "mass = np.array([M1,M2, M3])\n",
    "pos = np.array([body1Pos, body2Pos, body3Pos]).flatten()\n",
    "velo = np.array([body1Velo, body2Velo, body3Velo]).flatten()\n",
    "v0 = np.array([pos, velo]).flatten()"
   ]
  },
  {
   "cell_type": "code",
   "execution_count": 5,
   "metadata": {},
   "outputs": [
    {
     "data": {
      "image/png": "[encoded data removed]",
      "text/plain": [
       "<Figure size 504x504 with 1 Axes>"
      ]
     },
     "metadata": {
      "needs_background": "light"
     },
     "output_type": "display_data"
    }
   ],
   "source": [
    "plotter(1,1,1,proj=2)"
   ]
  },
  {
   "cell_type": "code",
   "execution_count": null,
   "metadata": {},
   "outputs": [],
   "source": []
  }
 ],
 "metadata": {
  "kernelspec": {
   "display_name": "Python 3",
   "language": "python",
   "name": "python3"
  },
  "language_info": {
   "codemirror_mode": {
    "name": "ipython",
    "version": 3
   },
   "file_extension": ".py",
   "mimetype": "text/x-python",
   "name": "python",
   "nbconvert_exporter": "python",
   "pygments_lexer": "ipython3",
   "version": "3.7.0"
  }
 },
 "nbformat": 4,
 "nbformat_minor": 2
}
