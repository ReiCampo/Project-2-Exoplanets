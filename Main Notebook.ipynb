{
 "cells": [
  {
   "cell_type": "code",
   "execution_count": 1,
   "metadata": {},
   "outputs": [],
   "source": [
    "import numpy as np\n",
    "from numpy import exp as e\n",
    "import matplotlib.pyplot as plt\n",
    "%matplotlib inline\n",
    "import matplotlib\n",
    "matplotlib.rcParams['mathtext.fontset'] = 'stix'\n",
    "matplotlib.rcParams['font.family'] = 'serif'\n",
    "matplotlib.rcParams['font.sans-serif'] = 'stix'\n",
    "from matplotlib import rcParams\n",
    "rcParams.update({'figure.autolayout': True})\n",
    "from astropy import constants as const\n",
    "from astropy import units as u\n",
    "from astropy.cosmology import Planck15 as cosmo\n",
    "from sympy import * \n",
    "from sympy.interactive import printing\n",
    "printing.init_printing(use_latex = True)\n",
    "from scipy.optimize import fsolve as fsolve\n",
    "from scipy import integrate"
   ]
  },
  {
   "cell_type": "code",
   "execution_count": 2,
   "metadata": {},
   "outputs": [],
   "source": [
    "# vec = [x1, y1, z1, vx1, vy1, vz1, x2, y2, z2, vx2, vy2, vz2, x3, y3, z3, vx3, vy3, vz3]\n",
    "G = 1 \n",
    "ϵ = 1\n",
    "def df_3body(vec,t,M1,M2, M3):\n",
    "    r1=vec[0:3]\n",
    "    r2=vec[6:9]\n",
    "    r3=vec[12:15]\n",
    "    x = np.array([r1[0], r2[0], r3[0]])\n",
    "    y = np.array([r1[1], r2[1], r3[1]])\n",
    "    z = np.array([r1[2], r2[2], r3[2]])\n",
    "    Dx = np.subtract.outer(x,x)\n",
    "    Dy = np.subtract.outer(y,y)\n",
    "    Dz = np.subtract.outer(z,z)\n",
    "    M = np.array([M1, M2, M3])\n",
    "    \n",
    "    #acc = dv/dt    \n",
    "    bracketx = Dx/((ϵ**2+Dx**2+Dy**2+Dz**2)**(3/2))\n",
    "    accex = -np.dot(M, bracketx)\n",
    "    \n",
    "    brackety = Dy/((ϵ**2+Dx**2+Dy**2+Dz**2)**(3/2))\n",
    "    accey = -np.dot(M, brackety)\n",
    "    \n",
    "    bracketz = Dz/((ϵ**2+Dx**2+Dy**2+Dz**2)**(3/2))\n",
    "    accez = -np.dot(M, bracketz)    \n",
    "    \n",
    "    dvec=np.zeros(len(vec))\n",
    "    dvec[0] =vec[3]\n",
    "    dvec[1] =vec[4]\n",
    "    dvec[2] =vec[5]\n",
    "    dvec[3] =accex[0]\n",
    "    dvec[4] =accey[0]\n",
    "    dvec[5] =accez[0]\n",
    "\n",
    "    dvec[6] =vec[6]\n",
    "    dvec[7] =vec[7]\n",
    "    dvec[8] =vec[8]\n",
    "    dvec[9] =accex[1]\n",
    "    dvec[10] =accey[1]\n",
    "    dvec[11] =accez[1]\n",
    "\n",
    "    dvec[12] =vec[9]\n",
    "    dvec[13] =vec[10]\n",
    "    dvec[14] =vec[11]\n",
    "    dvec[15] =accex[2]\n",
    "    dvec[16] =accey[2]\n",
    "    dvec[17] =accez[2]\n",
    "    \n",
    "    return dvec"
   ]
  },
  {
   "cell_type": "code",
   "execution_count": 3,
   "metadata": {},
   "outputs": [],
   "source": [
    "body1 = np.array([1,1,1,1,1,1])\n",
    "body2 = np.array([1,1,1,1,1,1])\n",
    "body3 = np.array([1,1,1,1,1,1])\n",
    "M1 = 1\n",
    "M2 = 2*M1\n",
    "M3=3*M1\n",
    "v0=np.array([body1, body2, body3]).flatten()\n",
    "tarr=np.linspace(0.0, 1, 400)\n",
    "result=integrate.odeint(df_3body,v0,tarr,args=(M1,M2,M3))\n",
    "x1=result[0:,0]\n",
    "y1=result[0:,1]\n",
    "z1=result[0:,2]\n",
    "vx1=result[0:,3]\n",
    "vy1=result[0:,4]\n",
    "vz1=result[0:,5]\n",
    "\n",
    "x2=result[0:,6]\n",
    "y2=result[0:,7]\n",
    "z2=result[0:,8]\n",
    "vx2=result[0:,9]\n",
    "vy2=result[0:,10]\n",
    "vz2=result[0:,11]\n",
    "\n",
    "x3=result[0:,12]\n",
    "y3=result[0:,13]\n",
    "z3=result[0:,14]\n",
    "vx3=result[0:,15]\n",
    "vy3=result[0:,16]\n",
    "vz3=result[0:,17]"
   ]
  },
  {
   "cell_type": "code",
   "execution_count": 4,
   "metadata": {},
   "outputs": [
    {
     "name": "stderr",
     "output_type": "stream",
     "text": [
      "C:\\ProgramData\\Anaconda3\\lib\\site-packages\\matplotlib\\figure.py:2369: UserWarning: This figure includes Axes that are not compatible with tight_layout, so results might be incorrect.\n",
      "  warnings.warn(\"This figure includes Axes that are not compatible \"\n"
     ]
    },
    {
     "data": {
      "image/png": "[encoded data removed]",
      "text/plain": [
       "<Figure size 504x504 with 1 Axes>"
      ]
     },
     "metadata": {
      "needs_background": "light"
     },
     "output_type": "display_data"
    }
   ],
   "source": [
    "fig, ax = plt.subplots(figsize=(7,7))\n",
    "#ax.set_ylabel()\n",
    "#ax.set_xlabel()\n",
    "#ax.set_title()\n",
    "ax.plot(x1,y1)\n",
    "ax.plot(x2,y2)\n",
    "#plt.legend()\n",
    "plt.grid()\n",
    "plt.show()"
   ]
  },
  {
   "cell_type": "code",
   "execution_count": null,
   "metadata": {},
   "outputs": [],
   "source": []
  },
  {
   "cell_type": "code",
   "execution_count": null,
   "metadata": {},
   "outputs": [],
   "source": []
  }
 ],
 "metadata": {
  "kernelspec": {
   "display_name": "Python 3",
   "language": "python",
   "name": "python3"
  },
  "language_info": {
   "codemirror_mode": {
    "name": "ipython",
    "version": 3
   },
   "file_extension": ".py",
   "mimetype": "text/x-python",
   "name": "python",
   "nbconvert_exporter": "python",
   "pygments_lexer": "ipython3",
   "version": "3.7.3"
  }
 },
 "nbformat": 4,
 "nbformat_minor": 2
}
