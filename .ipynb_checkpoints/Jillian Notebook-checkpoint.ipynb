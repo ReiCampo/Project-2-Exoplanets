{
 "cells": [
  {
   "cell_type": "code",
   "execution_count": 1,
   "metadata": {},
   "outputs": [],
   "source": [
    "import numpy as np\n",
    "from scipy import integrate\n",
    "from astropy import constants as const\n",
    "from astropy import units as u\n",
    "import plotter as p #plotter function\n",
    "import gravSolve as gs #gravity solver function\n",
    "import matplotlib.pyplot as plt\n",
    "%matplotlib inline"
   ]
  },
  {
   "cell_type": "code",
   "execution_count": 2,
   "metadata": {},
   "outputs": [
    {
     "name": "stderr",
     "output_type": "stream",
     "text": [
      "/Library/Frameworks/Python.framework/Versions/3.7/lib/python3.7/site-packages/ipykernel_launcher.py:18: DeprecationWarning: object of type <class 'float'> cannot be safely interpreted as an integer.\n"
     ]
    }
   ],
   "source": [
    "# the following data comes from http://three-body.ipb.ac.rs/sol.php?id=5\n",
    "M1 = 1 \n",
    "M2 = 1\n",
    "M3 = 1\n",
    "\n",
    "p1 = 0.080584\n",
    "p2 = 0.588836\n",
    "P = 21.270975\n",
    "\n",
    "body1Pos = [-1,0,0] #(x,y,z)\n",
    "body1Velo = [p1,p2,0] #(vx,vy,vz)\n",
    "\n",
    "body2Pos = [1,0,0] #(x,y,z)\n",
    "body2Velo = [p1,p2,0] #(vx,vy,vz)\n",
    "\n",
    "body3Pos = [0,0,0]\n",
    "body3Velo= [-2*p1,-2*p2,0]\n",
    "tarr=np.linspace(0.0, 3*P, 1e3)\n",
    "mass = np.array([M1,M2, M3])\n",
    "pos = np.array([body1Pos, body2Pos, body3Pos]).flatten()\n",
    "velo = np.array([body1Velo, body2Velo, body3Velo]).flatten()\n",
    "v0 = np.array([pos, velo]).flatten()\n",
    "result=integrate.odeint(gs.df_Nbody,v0,tarr,args=(mass,))"
   ]
  },
  {
   "cell_type": "code",
   "execution_count": null,
   "metadata": {},
   "outputs": [],
   "source": [
    "p.plotter(result,1,1,1,proj=0)"
   ]
  },
  {
   "cell_type": "code",
   "execution_count": null,
   "metadata": {},
   "outputs": [],
   "source": [
    "p.plotter(result, 1,1,1,proj=2, title='Dragonfly')"
   ]
  },
  {
   "cell_type": "code",
   "execution_count": null,
   "metadata": {},
   "outputs": [],
   "source": [
    "p.plotter(result, 1,1,1,proj=3, title='yo')"
   ]
  },
  {
   "cell_type": "code",
   "execution_count": null,
   "metadata": {},
   "outputs": [],
   "source": [
    "p.plotter(result, 1,0,0,proj=4, tarr=tarr, title='Dragonfly, M3 velocity vs time')"
   ]
  },
  {
   "cell_type": "code",
   "execution_count": null,
   "metadata": {},
   "outputs": [],
   "source": [
    "P = 70\n",
    "p1 = 0.080584\n",
    "p2 = 0.588836\n",
    "M1 = 1\n",
    "M2 = 1\n",
    "M3 = 0.99046\n",
    "\n",
    "body1Pos = [-1,0,0]\n",
    "body1Velo = [p1,p2,0]\n",
    "body2Pos = [1,0,0]\n",
    "body2Velo = [p1,p2,0]\n",
    "body3Pos = [0,0,0]\n",
    "body3Velo = [-2*p1,-2*p2,0]\n",
    "\n",
    "tarr=np.linspace(0.0, 1*P, 1000)\n",
    "mass = np.array([M1, M2, M3])\n",
    "pos = np.array([body1Pos, body2Pos, body3Pos]).flatten()\n",
    "velo = np.array([body1Velo, body2Velo, body3Velo]).flatten()\n",
    "v0 = np.array([pos, velo]).flatten()\n",
    "\n",
    "result=integrate.odeint(gs.df_Nbody,v0,tarr,args=(mass,))\n",
    "x1=result[0:,0]\n",
    "y1=result[0:,1]\n",
    "z1=result[0:,2]\n",
    "x2=result[0:,3]\n",
    "y2=result[0:,4]\n",
    "z2=result[0:,5]\n",
    "x3=result[0:,6]\n",
    "y3=result[0:,7]\n",
    "z3=result[0:,8]"
   ]
  },
  {
   "cell_type": "code",
   "execution_count": null,
   "metadata": {},
   "outputs": [],
   "source": [
    "p.plotter(result,1,1,1,proj=0, title='M3=0.99046')"
   ]
  },
  {
   "cell_type": "code",
   "execution_count": null,
   "metadata": {},
   "outputs": [],
   "source": [
    "p.plotter(result,1,1,1,proj=2, title='M3=0.99046')"
   ]
  },
  {
   "cell_type": "code",
   "execution_count": null,
   "metadata": {},
   "outputs": [],
   "source": [
    "p.plotter(result,1,1,1,proj=3, tarr=tarr)"
   ]
  },
  {
   "cell_type": "code",
   "execution_count": null,
   "metadata": {},
   "outputs": [],
   "source": [
    "p.plotter(result,1,1,1,proj=4, tarr=tarr)"
   ]
  },
  {
   "cell_type": "markdown",
   "metadata": {},
   "source": [
    "# back to dragonfly modifications"
   ]
  },
  {
   "cell_type": "code",
   "execution_count": null,
   "metadata": {},
   "outputs": [],
   "source": [
    "P = 70\n",
    "p1 = 0.080584\n",
    "p2 = 0.588836\n",
    "M1 = 1\n",
    "M2 = 1\n",
    "M3 = 0.5\n",
    "\n",
    "body1Pos = [-1,0,0]\n",
    "body1Velo = [p1,p2,0]\n",
    "body2Pos = [1,0,0]\n",
    "body2Velo = [p1,p2,0]\n",
    "body3Pos = [0,0,0]\n",
    "body3Velo = [-2*p1,-2*p2,0]\n",
    "\n",
    "tarr=np.linspace(0.0, P, 1000)\n",
    "mass = np.array([M1, M2, M3])\n",
    "pos = np.array([body1Pos, body2Pos, body3Pos]).flatten()\n",
    "velo = np.array([body1Velo, body2Velo, body3Velo]).flatten()\n",
    "v0 = np.array([pos, velo]).flatten()\n",
    "\n",
    "result=integrate.odeint(gs.df_Nbody,v0,tarr,args=(mass,))\n",
    "x1=result[0:,0]\n",
    "y1=result[0:,1]\n",
    "z1=result[0:,2]\n",
    "x2=result[0:,3]\n",
    "y2=result[0:,4]\n",
    "z2=result[0:,5]\n",
    "x3=result[0:,6]\n",
    "y3=result[0:,7]\n",
    "z3=result[0:,8]"
   ]
  },
  {
   "cell_type": "code",
   "execution_count": null,
   "metadata": {},
   "outputs": [],
   "source": [
    "p.plotter(result,1,1,1,proj=0, title='Initial Positions')"
   ]
  },
  {
   "cell_type": "code",
   "execution_count": null,
   "metadata": {},
   "outputs": [],
   "source": [
    "p.plotter(result,1,1,1,proj=2, title='M3=0.5')"
   ]
  },
  {
   "cell_type": "code",
   "execution_count": null,
   "metadata": {},
   "outputs": [],
   "source": [
    "p.plotter(result,1,1,1,proj=3, title='M3=0.5')"
   ]
  },
  {
   "cell_type": "code",
   "execution_count": null,
   "metadata": {},
   "outputs": [],
   "source": [
    "p.plotter(result,1,1,1,proj=4, tarr=tarr, title='M3=0.5')"
   ]
  },
  {
   "cell_type": "code",
   "execution_count": null,
   "metadata": {},
   "outputs": [],
   "source": [
    "P = 70\n",
    "p1 = 0.080584\n",
    "p2 = 0.588836\n",
    "M1 = 1\n",
    "M2 = 1\n",
    "M3 = 0.99999\n",
    "\n",
    "body1Pos = [-1,0,0]\n",
    "body1Velo = [p1,p2,0]\n",
    "body2Pos = [1,0,0]\n",
    "body2Velo = [p1,p2,0]\n",
    "body3Pos = [0,0,0]\n",
    "body3Velo = [-2*p1,-2*p2,0]\n",
    "\n",
    "tarr=np.linspace(0.0, 4*P, 4000)\n",
    "mass = np.array([M1, M2, M3])\n",
    "pos = np.array([body1Pos, body2Pos, body3Pos]).flatten()\n",
    "velo = np.array([body1Velo, body2Velo, body3Velo]).flatten()\n",
    "v0 = np.array([pos, velo]).flatten()\n",
    "\n",
    "result=integrate.odeint(gs.df_Nbody,v0,tarr,args=(mass,))\n",
    "x1=result[0:,0]\n",
    "y1=result[0:,1]\n",
    "z1=result[0:,2]\n",
    "x2=result[0:,3]\n",
    "y2=result[0:,4]\n",
    "z2=result[0:,5]\n",
    "x3=result[0:,6]\n",
    "y3=result[0:,7]\n",
    "z3=result[0:,8]\n",
    "\n",
    "#fig6, ax6 = plt.subplots(figsize=(10,10))\n",
    "#ax6.set_ylabel('y')\n",
    "#ax6.set_xlabel('x')\n",
    "#ax6.set_title(\"M3 = 0.99999\")\n",
    "#ax6.plot(x1,y1)\n",
    "#ax6.plot(x2,y2) #orange\n",
    "#ax6.plot(x3,y3) #green\n",
    "\n",
    "#plt.grid()\n",
    "#plt.show()"
   ]
  },
  {
   "cell_type": "code",
   "execution_count": null,
   "metadata": {},
   "outputs": [],
   "source": [
    "p.plotter(result,1,1,1,proj=2, tarr=tarr, title='M3=0.99999')"
   ]
  },
  {
   "cell_type": "code",
   "execution_count": null,
   "metadata": {},
   "outputs": [],
   "source": [
    "p.plotter(result,1,1,1,proj=4, tarr=4*tarr, title='M3=0.99999')"
   ]
  },
  {
   "cell_type": "code",
   "execution_count": null,
   "metadata": {},
   "outputs": [],
   "source": [
    "P = 70\n",
    "p1 = 0.080584\n",
    "p2 = 0.588836\n",
    "M1 = 1\n",
    "M2 = 1\n",
    "M3 = 0.99995\n",
    "\n",
    "body1Pos = [-1,0,0]\n",
    "body1Velo = [p1,p2,0]\n",
    "body2Pos = [1,0,0]\n",
    "body2Velo = [p1,p2,0]\n",
    "body3Pos = [0,0,0]\n",
    "body3Velo = [-2*p1,-2*p2,0]\n",
    "\n",
    "tarr=np.linspace(0.0, 5*P, 4000)\n",
    "mass = np.array([M1, M2, M3])\n",
    "pos = np.array([body1Pos, body2Pos, body3Pos]).flatten()\n",
    "velo = np.array([body1Velo, body2Velo, body3Velo]).flatten()\n",
    "v0 = np.array([pos, velo]).flatten()\n",
    "\n",
    "result=integrate.odeint(gs.df_Nbody,v0,tarr,args=(mass,))\n",
    "x1=result[0:,0]\n",
    "y1=result[0:,1]\n",
    "z1=result[0:,2]\n",
    "x2=result[0:,3]\n",
    "y2=result[0:,4]\n",
    "z2=result[0:,5]\n",
    "x3=result[0:,6]\n",
    "y3=result[0:,7]\n",
    "z3=result[0:,8]\n",
    "\n",
    "p.plotter(result,1,1,1,proj=2, tarr=tarr, title='M3=0.99995')"
   ]
  },
  {
   "cell_type": "code",
   "execution_count": null,
   "metadata": {},
   "outputs": [],
   "source": [
    "p.plotter(result,1,1,1,proj=4, tarr=1*tarr, title='M3=0.99995')"
   ]
  },
  {
   "cell_type": "code",
   "execution_count": null,
   "metadata": {},
   "outputs": [],
   "source": [
    "P = 70\n",
    "p1 = 0.080584\n",
    "p2 = 0.588836\n",
    "M1 = 1\n",
    "M2 = 1\n",
    "M3 = 0.9995\n",
    "\n",
    "body1Pos = [-1,0,0]\n",
    "body1Velo = [p1,p2,0]\n",
    "body2Pos = [1,0,0]\n",
    "body2Velo = [p1,p2,0]\n",
    "body3Pos = [0,0,0]\n",
    "body3Velo = [-2*p1,-2*p2,0]\n",
    "\n",
    "tarr=np.linspace(0.0, 5*P, 3000)\n",
    "mass = np.array([M1, M2, M3])\n",
    "pos = np.array([body1Pos, body2Pos, body3Pos]).flatten()\n",
    "velo = np.array([body1Velo, body2Velo, body3Velo]).flatten()\n",
    "v0 = np.array([pos, velo]).flatten()\n",
    "\n",
    "result=integrate.odeint(gs.df_Nbody,v0,tarr,args=(mass,))\n",
    "x1=result[0:,0]\n",
    "y1=result[0:,1]\n",
    "z1=result[0:,2]\n",
    "x2=result[0:,3]\n",
    "y2=result[0:,4]\n",
    "z2=result[0:,5]\n",
    "x3=result[0:,6]\n",
    "y3=result[0:,7]\n",
    "z3=result[0:,8]\n",
    "\n",
    "p.plotter(result,1,1,1,proj=2, tarr=tarr, title='M3=0.9995')"
   ]
  },
  {
   "cell_type": "code",
   "execution_count": null,
   "metadata": {},
   "outputs": [],
   "source": [
    "p.plotter(result,1,1,1,proj=4, tarr=tarr)"
   ]
  },
  {
   "cell_type": "code",
   "execution_count": null,
   "metadata": {},
   "outputs": [],
   "source": []
  },
  {
   "cell_type": "code",
   "execution_count": null,
   "metadata": {},
   "outputs": [],
   "source": []
  },
  {
   "cell_type": "code",
   "execution_count": null,
   "metadata": {},
   "outputs": [],
   "source": []
  },
  {
   "cell_type": "code",
   "execution_count": null,
   "metadata": {},
   "outputs": [],
   "source": []
  },
  {
   "cell_type": "code",
   "execution_count": null,
   "metadata": {},
   "outputs": [],
   "source": []
  },
  {
   "cell_type": "code",
   "execution_count": null,
   "metadata": {},
   "outputs": [],
   "source": []
  },
  {
   "cell_type": "code",
   "execution_count": null,
   "metadata": {},
   "outputs": [],
   "source": []
  },
  {
   "cell_type": "markdown",
   "metadata": {},
   "source": [
    "# Hey Jon, this cell below\n",
    "### I am trying to set ϵ=0.0003"
   ]
  },
  {
   "cell_type": "code",
   "execution_count": 13,
   "metadata": {},
   "outputs": [
    {
     "data": {
      "image/png": "[encoded data removed]",
      "text/plain": [
       "<Figure size 504x504 with 1 Axes>"
      ]
     },
     "metadata": {
      "needs_background": "light"
     },
     "output_type": "display_data"
    }
   ],
   "source": [
    "P = 70\n",
    "p1 = 0.080584\n",
    "p2 = 0.588836\n",
    "M1 = 1\n",
    "M2 = 1\n",
    "M3 = 0.5\n",
    "\n",
    "body1Pos = [-1,0,0]\n",
    "body1Velo = [p1,p2,0]\n",
    "body2Pos = [1,0,0]\n",
    "body2Velo = [p1,p2,0]\n",
    "body3Pos = [0,0,0]\n",
    "body3Velo = [-1.18*p1,-1.18*p2,0]\n",
    "\n",
    "tarr=np.linspace(0.0, 4*P, 4000)\n",
    "mass = np.array([M1, M2, M3])\n",
    "pos = np.array([body1Pos, body2Pos, body3Pos]).flatten()\n",
    "velo = np.array([body1Velo, body2Velo, body3Velo]).flatten()\n",
    "v0 = np.array([pos, velo]).flatten()\n",
    "\n",
    "result=integrate.odeint(gs.df_Nbody,v0,tarr,args=(mass,1))\n",
    "x1=result[0:,0]\n",
    "y1=result[0:,1]\n",
    "z1=result[0:,2]\n",
    "x2=result[0:,3]\n",
    "y2=result[0:,4]\n",
    "z2=result[0:,5]\n",
    "x3=result[0:,6]\n",
    "y3=result[0:,7]\n",
    "z3=result[0:,8]\n",
    "\n",
    "p.plotter(result,1,1,1,proj=2, tarr=tarr, title='M3=0.5, body3 V=[-1.18*p1,-1.18*p2,0], ϵ=0.0003')"
   ]
  },
  {
   "cell_type": "code",
   "execution_count": 14,
   "metadata": {},
   "outputs": [
    {
     "data": {
      "image/png": "[encoded data removed]",
      "text/plain": [
       "<Figure size 504x504 with 1 Axes>"
      ]
     },
     "metadata": {
      "needs_background": "light"
     },
     "output_type": "display_data"
    }
   ],
   "source": [
    "p.plotter(result,1,1,1,proj=4, tarr=tarr)"
   ]
  },
  {
   "cell_type": "code",
   "execution_count": null,
   "metadata": {},
   "outputs": [],
   "source": []
  }
 ],
 "metadata": {
  "kernelspec": {
   "display_name": "Python 3",
   "language": "python",
   "name": "python3"
  },
  "language_info": {
   "codemirror_mode": {
    "name": "ipython",
    "version": 3
   },
   "file_extension": ".py",
   "mimetype": "text/x-python",
   "name": "python",
   "nbconvert_exporter": "python",
   "pygments_lexer": "ipython3",
   "version": "3.7.0"
  }
 },
 "nbformat": 4,
 "nbformat_minor": 2
}
