{
 "cells": [
  {
   "cell_type": "code",
   "execution_count": 1,
   "metadata": {},
   "outputs": [],
   "source": [
    "import numpy as np\n",
    "from scipy import integrate\n",
    "from astropy import constants as const\n",
    "from astropy import units as u\n",
    "import plotter_main as p #plotter function\n",
    "import gravSolve as gs #gravity solver function\n",
    "import matplotlib.pyplot as plt"
   ]
  },
  {
   "cell_type": "code",
   "execution_count": 2,
   "metadata": {},
   "outputs": [],
   "source": [
    "#units used: AU, Msun, yr\n",
    "G = const.G.to('AU**3/Msun*yr**2').value\n",
    "\n",
    "M1 = 0.8\n",
    "M2 = (233.3076*u.Mearth).to('Msun').value\n",
    "M3 = M1\n",
    "e = 0.0000\n",
    "a = 0.110\n",
    "\n",
    "# compute some other useful quantities\n",
    "Mtot=M1+M2\n",
    "mu=M1*M2/Mtot\n",
    "ell=np.sqrt(G*Mtot*a*(1.0-e**2))\n",
    "P=2.0*np.pi*np.sqrt(a**3/(G*Mtot))\n",
    "# set initial conditions correpsonding to apoapsis\n",
    "rap=a*(1.0+e)\n",
    "vap=ell/rap\n",
    "\n",
    "\n",
    "# positions and velocities of the two stars\n",
    "a1=rap*mu/M1\n",
    "a2=rap*mu/M2\n",
    "v1=vap*mu/M1\n",
    "v2=vap*mu/M2"
   ]
  },
  {
   "cell_type": "markdown",
   "metadata": {},
   "source": [
    "The bodies will all be constant mass and the initial conditions will stay the same for star 1 and the planet. We will change the initial position of the second star to see if the orbit becomes unstable."
   ]
  },
  {
   "cell_type": "markdown",
   "metadata": {},
   "source": [
    "The body 3 function assumes that the second star has 0 initial velocity"
   ]
  },
  {
   "cell_type": "code",
   "execution_count": 3,
   "metadata": {},
   "outputs": [],
   "source": [
    "def body3(pos, p=1, ϵ=0.0001): \n",
    "    body1Pos = [a1,0,0] #(x,y,z)\n",
    "    body1Velo = [0,v1,0] #(vx,vy,vz)\n",
    "\n",
    "    body2Pos = [-a2,0,0] #(x,y,z)\n",
    "    body2Velo = [0,-v2,0] #(vx,vy,vz)\n",
    "\n",
    "    body3Pos = [pos,0,0]\n",
    "    body3Velo = [0,0,0]\n",
    "\n",
    "    mass = np.array([M1,M2, M3])\n",
    "    pos = np.array([body1Pos, body2Pos, body3Pos]).flatten()\n",
    "    velo = np.array([body1Velo, body2Velo, body3Velo]).flatten()\n",
    "    v0 = np.array([pos, velo]).flatten()\n",
    "    tarr=np.linspace(0.0, P*p, 4e3) \n",
    "    result=integrate.odeint(gs.df_Nbody,v0,tarr,args=(mass,G, ϵ)) \n",
    "    return result, tarr"
   ]
  },
  {
   "cell_type": "markdown",
   "metadata": {},
   "source": [
    "The body3_kep uses Kepler's laws to find an initial velocity of the second star. It assumes a central mass that is the sum of star 1 and the planet"
   ]
  },
  {
   "cell_type": "code",
   "execution_count": 4,
   "metadata": {},
   "outputs": [],
   "source": [
    "def body3_kep(pos, p=1, ϵ=0.0001): \n",
    "    Mcenter = M1 + M2 #central mass is star + planet \n",
    "    newMtot = Mcenter + M3\n",
    "    Planet_mu = Mcenter * M3 / newMtot\n",
    "    Planet_ell = np.sqrt(G * newMtot * a * (1.0 - e**2))\n",
    "    Planet_P = 2.0 * np.pi * np.sqrt(a**3 / (G * newMtot))\n",
    "\n",
    "    Planet_vap = Planet_ell / rap\n",
    "\n",
    "    a3 = rap * Planet_mu / M3\n",
    "    v3 = Planet_vap * Planet_mu / M3\n",
    "    body1Pos = [a1,0,0] #(x,y,z)\n",
    "    body1Velo = [0,v1,0] #(vx,vy,vz)\n",
    "\n",
    "    body2Pos = [-a2,0,0] #(x,y,z)\n",
    "    body2Velo = [0,-v2,0] #(vx,vy,vz)\n",
    "\n",
    "    body3Pos = [pos,0,0]\n",
    "    body3Velo = [0,v3,0]\n",
    "\n",
    "    mass = np.array([M1,M2, M3])\n",
    "    pos = np.array([body1Pos, body2Pos, body3Pos]).flatten()\n",
    "    velo = np.array([body1Velo, body2Velo, body3Velo]).flatten()\n",
    "    v0 = np.array([pos, velo]).flatten()\n",
    "    tarr=np.linspace(0.0, P*p, 4e3) \n",
    "    result=integrate.odeint(gs.df_Nbody,v0,tarr,args=(mass,G, ϵ)) \n",
    "    return result, tarr"
   ]
  },
  {
   "cell_type": "markdown",
   "metadata": {},
   "source": [
    "pos_body_3() returns the initial position of body 3. It assumes a central mass that is the sum of star 1 and the planet"
   ]
  },
  {
   "cell_type": "code",
   "execution_count": 5,
   "metadata": {},
   "outputs": [],
   "source": [
    "def pos_body_3():\n",
    "    Mcenter = M1 + M2 #central mass is star + planet \n",
    "    newMtot = Mcenter + M3\n",
    "    Planet_mu = Mcenter * M3 / newMtot\n",
    "    Planet_ell = np.sqrt(G * newMtot * a * (1.0 - e**2))\n",
    "    Planet_P = 2.0 * np.pi * np.sqrt(a**3 / (G * newMtot))\n",
    "    Planet_vap = Planet_ell / rap\n",
    "    a3 = rap * Planet_mu / M3\n",
    "    return a3"
   ]
  },
  {
   "cell_type": "markdown",
   "metadata": {},
   "source": [
    "To see the orbit of star 1 and the planet, star 3 will be very far away so that it does not influence the orbits of star 1 and the planet."
   ]
  },
  {
   "cell_type": "code",
   "execution_count": 6,
   "metadata": {
    "scrolled": false
   },
   "outputs": [
    {
     "name": "stderr",
     "output_type": "stream",
     "text": [
      "C:\\ProgramData\\Anaconda3\\lib\\site-packages\\ipykernel_launcher.py:15: DeprecationWarning: object of type <class 'float'> cannot be safely interpreted as an integer.\n",
      "  from ipykernel import kernelapp as app\n"
     ]
    },
    {
     "ename": "TypeError",
     "evalue": "plotter() got multiple values for argument 'proj'",
     "output_type": "error",
     "traceback": [
      "\u001b[1;31m---------------------------------------------------------------------------\u001b[0m",
      "\u001b[1;31mTypeError\u001b[0m                                 Traceback (most recent call last)",
      "\u001b[1;32m<ipython-input-6-dbadca353ce4>\u001b[0m in \u001b[0;36m<module>\u001b[1;34m()\u001b[0m\n\u001b[0;32m      1\u001b[0m \u001b[0mpos3\u001b[0m \u001b[1;33m=\u001b[0m \u001b[1;36m1000\u001b[0m\u001b[1;33m\u001b[0m\u001b[0m\n\u001b[0;32m      2\u001b[0m \u001b[0mresult\u001b[0m\u001b[1;33m,\u001b[0m \u001b[0mtarr\u001b[0m \u001b[1;33m=\u001b[0m \u001b[0mbody3\u001b[0m\u001b[1;33m(\u001b[0m\u001b[0mpos3\u001b[0m\u001b[1;33m,\u001b[0m \u001b[0mp\u001b[0m\u001b[1;33m=\u001b[0m\u001b[1;36m1\u001b[0m\u001b[1;33m,\u001b[0m \u001b[0mϵ\u001b[0m\u001b[1;33m=\u001b[0m\u001b[1;36m0.001\u001b[0m\u001b[1;33m)\u001b[0m\u001b[1;33m\u001b[0m\u001b[0m\n\u001b[1;32m----> 3\u001b[1;33m \u001b[0mp\u001b[0m\u001b[1;33m.\u001b[0m\u001b[0mplotter\u001b[0m\u001b[1;33m(\u001b[0m\u001b[0mresult\u001b[0m\u001b[1;33m,\u001b[0m \u001b[1;36m1\u001b[0m\u001b[1;33m,\u001b[0m\u001b[1;36m1\u001b[0m\u001b[1;33m,\u001b[0m\u001b[1;36m0\u001b[0m\u001b[1;33m,\u001b[0m \u001b[0mpos3\u001b[0m\u001b[1;33m,\u001b[0m \u001b[0mproj\u001b[0m\u001b[1;33m=\u001b[0m\u001b[1;36m0\u001b[0m\u001b[1;33m,\u001b[0m \u001b[0mtarr\u001b[0m\u001b[1;33m=\u001b[0m\u001b[0mtarr\u001b[0m\u001b[1;33m)\u001b[0m\u001b[1;33m\u001b[0m\u001b[0m\n\u001b[0m\u001b[0;32m      4\u001b[0m \u001b[0mp\u001b[0m\u001b[1;33m.\u001b[0m\u001b[0mplotter\u001b[0m\u001b[1;33m(\u001b[0m\u001b[0mresult\u001b[0m\u001b[1;33m,\u001b[0m \u001b[1;36m1\u001b[0m\u001b[1;33m,\u001b[0m\u001b[1;36m1\u001b[0m\u001b[1;33m,\u001b[0m\u001b[1;36m0\u001b[0m\u001b[1;33m,\u001b[0m \u001b[0mpos3\u001b[0m\u001b[1;33m,\u001b[0m \u001b[0mproj\u001b[0m\u001b[1;33m=\u001b[0m\u001b[1;36m2\u001b[0m\u001b[1;33m,\u001b[0m \u001b[0mtarr\u001b[0m\u001b[1;33m=\u001b[0m\u001b[0mtarr\u001b[0m\u001b[1;33m,\u001b[0m \u001b[0mpoint\u001b[0m\u001b[1;33m=\u001b[0m\u001b[1;34m'y'\u001b[0m\u001b[1;33m)\u001b[0m\u001b[1;33m\u001b[0m\u001b[0m\n\u001b[0;32m      5\u001b[0m \u001b[0mp\u001b[0m\u001b[1;33m.\u001b[0m\u001b[0mplotter\u001b[0m\u001b[1;33m(\u001b[0m\u001b[0mresult\u001b[0m\u001b[1;33m,\u001b[0m \u001b[1;36m1\u001b[0m\u001b[1;33m,\u001b[0m\u001b[1;36m1\u001b[0m\u001b[1;33m,\u001b[0m\u001b[1;36m0\u001b[0m\u001b[1;33m,\u001b[0m \u001b[0mpos3\u001b[0m\u001b[1;33m,\u001b[0m \u001b[0mproj\u001b[0m\u001b[1;33m=\u001b[0m\u001b[1;36m4\u001b[0m\u001b[1;33m,\u001b[0m \u001b[0mtarr\u001b[0m\u001b[1;33m=\u001b[0m\u001b[0mtarr\u001b[0m\u001b[1;33m)\u001b[0m\u001b[1;33m\u001b[0m\u001b[0m\n",
      "\u001b[1;31mTypeError\u001b[0m: plotter() got multiple values for argument 'proj'"
     ]
    }
   ],
   "source": [
    "pos3 = 1000\n",
    "result, tarr = body3(pos3, p=1, ϵ=0.001)\n",
    "p.plotter(result, 1,1,0, pos3, proj=0, tarr=tarr)\n",
    "p.plotter(result, 1,1,0, pos3, proj=2, tarr=tarr, point='y')\n",
    "p.plotter(result, 1,1,0, pos3, proj=4, tarr=tarr)\n"
   ]
  },
  {
   "cell_type": "code",
   "execution_count": null,
   "metadata": {
    "scrolled": false
   },
   "outputs": [],
   "source": [
    "pos3 = a1\n",
    "result, tarr = body3(pos3, p=1, ϵ=0.001)\n",
    "p.plotter(result, 1,1,1, pos3, proj=0, tarr=tarr)\n",
    "p.plotter(result, 1,1,1, pos3, proj=2, tarr=tarr, point='y')\n",
    "p.plotter(result, 1,1,1, pos3, proj=4, tarr=tarr)"
   ]
  },
  {
   "cell_type": "markdown",
   "metadata": {},
   "source": [
    "The companion star is actually about 3 AU from star 1. Without using Kepler's laws to find the second star's initial velocity, the orbit of the planet becomes unstable when the position of the second star is 8.99 AU away"
   ]
  },
  {
   "cell_type": "code",
   "execution_count": null,
   "metadata": {
    "scrolled": false
   },
   "outputs": [],
   "source": [
    "pos3 = 9\n",
    "result, tarr = body3(pos3, p=600, ϵ=0.09)\n",
    "p.plotter(result, 1,1,1, pos3, proj=0, tarr=tarr)\n",
    "p.plotter(result, 1,1,1, pos3, proj=2, tarr=tarr)\n",
    "p.plotter(result, 1,1,1, pos3, proj=4, tarr=tarr)"
   ]
  },
  {
   "cell_type": "markdown",
   "metadata": {},
   "source": [
    "When star 2 is 8.99 AU away from star 1, it takes 93 periods for the orbit of the planet to be unstable"
   ]
  },
  {
   "cell_type": "code",
   "execution_count": null,
   "metadata": {
    "scrolled": false
   },
   "outputs": [],
   "source": [
    "pos3 = 8.99\n",
    "result, tarr = body3(pos3, p=93, ϵ=0.05)\n",
    "p.plotter(result, 1,1,1, pos3, proj=0, tarr=tarr)\n",
    "p.plotter(result, 1,1,1, pos3, proj=2, tarr=tarr)\n",
    "p.plotter(result, 1,1,1, pos3, proj=4, tarr=tarr)"
   ]
  },
  {
   "cell_type": "markdown",
   "metadata": {},
   "source": [
    "When star 2 is 0.5 AU away from star 1, it takes 42 periods for the orbit of the planet to be unstable"
   ]
  },
  {
   "cell_type": "code",
   "execution_count": null,
   "metadata": {},
   "outputs": [],
   "source": [
    "pos3 = 3\n",
    "result, tarr = body3(pos3, p=100, ϵ=0.05)\n",
    "p.plotter(result, 1,1,1, pos3, proj=0, tarr=tarr)\n",
    "p.plotter(result, 1,1,1, pos3, proj=2, tarr=tarr)\n",
    "p.plotter(result, 1,1,1, pos3, proj=4, tarr=tarr)"
   ]
  },
  {
   "cell_type": "markdown",
   "metadata": {},
   "source": [
    "When star 2 is 0.4 AU away from star 1, the orbit of the 3body system is still stable. The next few plots are using Kepler's laws to find the initial velocity of star 2"
   ]
  },
  {
   "cell_type": "code",
   "execution_count": null,
   "metadata": {
    "scrolled": false
   },
   "outputs": [],
   "source": [
    "pos3 = 0.4\n",
    "result, tarr = body3_kep(pos3, p=100, ϵ=0.001)\n",
    "p.plotter(result, 1,1,1, pos3, proj=0, tarr=tarr)\n",
    "p.plotter(result, 1,1,1, pos3, proj=2, tarr=tarr)\n",
    "p.plotter(result, 1,1,1, pos3, proj=4, tarr=tarr)"
   ]
  },
  {
   "cell_type": "markdown",
   "metadata": {},
   "source": [
    "The orbit becomes unstable when the second star is about 0.389 AU from star 1. The orbit becomes unstable at around 80 periods"
   ]
  },
  {
   "cell_type": "code",
   "execution_count": null,
   "metadata": {},
   "outputs": [],
   "source": [
    "pos3 = 0.389\n",
    "result, tarr = body3_kep(pos3, p=80, ϵ=0.001)\n",
    "p.plotter(result, 1,1,1, pos3, proj=0, tarr=tarr)\n",
    "p.plotter(result, 1,1,1, pos3, proj=2, tarr=tarr)\n",
    "p.plotter(result, 1,1,1, pos3, proj=4, tarr=tarr)"
   ]
  },
  {
   "cell_type": "markdown",
   "metadata": {},
   "source": [
    "Star 2 is \"inside\" the orbit of the star 1 - planet system. This does not show an S type orbit. "
   ]
  },
  {
   "cell_type": "code",
   "execution_count": null,
   "metadata": {},
   "outputs": [],
   "source": [
    "pos3 = pos_body_3() #position determined from Kepler's laws\n",
    "result, tarr = body3_kep(pos3, p=50, ϵ=0.001)\n",
    "p.plotter(result, 1,1,1, pos3, proj=0, tarr=tarr)\n",
    "p.plotter(result, 1,1,1, pos3, proj=2, tarr=tarr)\n",
    "p.plotter(result, 1,1,1, pos3, proj=4, tarr=tarr)"
   ]
  },
  {
   "cell_type": "markdown",
   "metadata": {},
   "source": [
    "The companion star is about 3 AU from star 1. The orbit of the planet is stable"
   ]
  },
  {
   "cell_type": "code",
   "execution_count": null,
   "metadata": {},
   "outputs": [],
   "source": [
    "pos3 = 3\n",
    "result, tarr = body3_kep(pos3, p=80, ϵ=0.001)\n",
    "p.plotter(result, 1,1,1, pos3, proj=0, tarr=tarr)\n",
    "p.plotter(result, 1,1,1, pos3, proj=2, tarr=tarr)\n",
    "p.plotter(result, 1,1,1, pos3, proj=4, tarr=tarr)"
   ]
  },
  {
   "cell_type": "code",
   "execution_count": null,
   "metadata": {},
   "outputs": [],
   "source": []
  }
 ],
 "metadata": {
  "kernelspec": {
   "display_name": "Python 3",
   "language": "python",
   "name": "python3"
  },
  "language_info": {
   "codemirror_mode": {
    "name": "ipython",
    "version": 3
   },
   "file_extension": ".py",
   "mimetype": "text/x-python",
   "name": "python",
   "nbconvert_exporter": "python",
   "pygments_lexer": "ipython3",
   "version": "3.7.0"
  }
 },
 "nbformat": 4,
 "nbformat_minor": 2
}
