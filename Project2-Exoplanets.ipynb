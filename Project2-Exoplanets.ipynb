{
 "cells": [
  {
   "cell_type": "markdown",
   "metadata": {},
   "source": [
    "## Rei Campo\n",
    "### Sub Analysis: Finding The Thresholds for Stable Circumbinary Orbits"
   ]
  },
  {
   "cell_type": "code",
   "execution_count": 1,
   "metadata": {},
   "outputs": [],
   "source": [
    "import numpy as np\n",
    "import matplotlib.pyplot as plt\n",
    "%matplotlib inline\n",
    "import matplotlib\n",
    "from matplotlib import rcParams\n",
    "rcParams.update({'figure.autolayout': True})\n",
    "matplotlib.rcParams['mathtext.fontset'] = 'stix'\n",
    "matplotlib.rcParams['font.family'] = 'serif'\n",
    "matplotlib.rcParams['font.sans-serif'] = 'stix'\n",
    "from scipy import integrate\n",
    "from celluloid import Camera\n",
    "import gravSolve as gs\n",
    "from mpl_toolkits.mplot3d import Axes3D\n",
    "from matplotlib.animation import FFMpegWriter\n",
    "from matplotlib.animation import FuncAnimation\n",
    "from astropy import constants as const\n",
    "from astropy import units as u"
   ]
  },
  {
   "cell_type": "code",
   "execution_count": 2,
   "metadata": {},
   "outputs": [],
   "source": [
    "def plotter(x, y, z, proj = 3):\n",
    "    \n",
    "    x1 = result2[0:,0]\n",
    "    y1 = result2[0:,1]\n",
    "    z1 = result2[0:,2]\n",
    "\n",
    "    x2 = result2[0:,3]\n",
    "    y2 = result2[0:,4]\n",
    "    z2 = result2[0:,5]\n",
    "\n",
    "    x3 = result2[0:,6]\n",
    "    y3 = result2[0:,7]\n",
    "    z3 = result2[0:,8]\n",
    "\n",
    "    vx1 = result2[0:,9]\n",
    "    vy1 = result2[0:,10]\n",
    "    vz1 = result2[0:,11]\n",
    "\n",
    "    vx2 = result2[0:,12]\n",
    "    vy2 = result2[0:,13]\n",
    "    vz2 = result2[0:,14]\n",
    "\n",
    "    vx3 = result2[0:,15]\n",
    "    vy3 = result2[0:,16]\n",
    "    vz3 = result2[0:,17]\n",
    "    \n",
    "    \n",
    "    if proj == 2:\n",
    "        fig = plt.figure(figsize = (7, 7))\n",
    "        ax = fig.add_subplot(111)\n",
    "        if x == 1:\n",
    "            ax.plot(x1,y1, 'b', label = \"Body 1\")\n",
    "        if y == 1:\n",
    "            ax.plot(x2,y2, 'k', label = \"Body 2\")\n",
    "        if z == 1:\n",
    "            ax.plot(x3,y3, 'r',label = \"Body 3\")\n",
    "    if proj == 3:\n",
    "        fig = plt.figure(figsize = (7, 7))\n",
    "        ax = fig.add_subplot(111, projection = '3d')\n",
    "        if x == 1:\n",
    "            ax.plot(x1, y1, z1, 'b', label = \"Body 1\")\n",
    "        if y == 1:\n",
    "            ax.plot(x2, y2, z2, 'k', label = \"Body 2\")\n",
    "        if z == 1:\n",
    "            ax.plot(x3, y3, z3, 'r', label = \"Body 3\")\n",
    "    plt.legend(loc = 'best')\n",
    "    plt.grid()\n",
    "    plt.show()"
   ]
  },
  {
   "cell_type": "code",
   "execution_count": 3,
   "metadata": {},
   "outputs": [
    {
     "name": "stderr",
     "output_type": "stream",
     "text": [
      "/Users/RachelCampo/anaconda3/lib/python3.7/site-packages/ipykernel_launcher.py:26: DeprecationWarning: object of type <class 'float'> cannot be safely interpreted as an integer.\n"
     ]
    }
   ],
   "source": [
    "#units used: AU, Msun, yr\n",
    "G = const.G.to('AU**3/Msun*yr**2').value\n",
    "M1 = 100\n",
    "M2 = 100\n",
    "M3 = .001\n",
    "e = 0.3300\n",
    "a = 0.326\n",
    "\n",
    "\n",
    "# kepler's laws\n",
    "Mtot = M1 + M2\n",
    "mu = M1 * M2 / Mtot\n",
    "ell = np.sqrt(G * Mtot * a * (1.0 - e**2))\n",
    "P = 2.0 * np.pi * np.sqrt(a**3 / (G * Mtot))\n",
    "\n",
    "# set initial conditions correpsonding to apoapsis\n",
    "rap = a * (1.0 + e)\n",
    "vap = ell / rap\n",
    "\n",
    "# positions and velocities of the two stars\n",
    "a1 = rap * mu / M1\n",
    "a2 = rap * mu / M2\n",
    "v1 = vap * mu / M1\n",
    "v2 = vap * mu / M2\n",
    "\n",
    "tarr = np.linspace(0.0, 7 * P, 1e3)"
   ]
  },
  {
   "cell_type": "code",
   "execution_count": 4,
   "metadata": {},
   "outputs": [],
   "source": [
    "def body3(pos):\n",
    "    body1Pos = [a1, 0, 0] #(x,y,z)\n",
    "    body1Velo = [0, v1, 0] #(vx,vy,vz)\n",
    "\n",
    "    body2Pos = [-a2, 0, 0] #(x,y,z)\n",
    "    body2Velo = [0, -v2, 0] #(vx,vy,vz)\n",
    "\n",
    "    body3Pos = [pos, 0, 0]\n",
    "    body3Velo = [0, 0, 0]\n",
    "\n",
    "    mass = np.array([M1, M2, M3])\n",
    "    pos = np.array([body1Pos, body2Pos, body3Pos]).flatten()\n",
    "    velo = np.array([body1Velo, body2Velo, body3Velo]).flatten()\n",
    "    v0 = np.array([pos, velo]).flatten()\n",
    "    result = integrate.odeint(gs.df_Nbody, v0, tarr, args = (mass, G, 0.1))\n",
    "    return result"
   ]
  },
  {
   "cell_type": "code",
   "execution_count": 5,
   "metadata": {},
   "outputs": [
    {
     "ename": "TypeError",
     "evalue": "df_Nbody() takes from 3 to 4 positional arguments but 5 were given",
     "output_type": "error",
     "traceback": [
      "\u001b[0;31m---------------------------------------------------------------------------\u001b[0m",
      "\u001b[0;31mTypeError\u001b[0m                                 Traceback (most recent call last)",
      "\u001b[0;32m<ipython-input-5-12c882159055>\u001b[0m in \u001b[0;36m<module>\u001b[0;34m\u001b[0m\n\u001b[1;32m      1\u001b[0m \u001b[0mplanet_position\u001b[0m \u001b[0;34m=\u001b[0m \u001b[0;36m100\u001b[0m\u001b[0;34m\u001b[0m\u001b[0;34m\u001b[0m\u001b[0m\n\u001b[0;32m----> 2\u001b[0;31m \u001b[0mresult\u001b[0m \u001b[0;34m=\u001b[0m \u001b[0mbody3\u001b[0m\u001b[0;34m(\u001b[0m\u001b[0mplanet_position\u001b[0m\u001b[0;34m)\u001b[0m\u001b[0;34m\u001b[0m\u001b[0;34m\u001b[0m\u001b[0m\n\u001b[0m\u001b[1;32m      3\u001b[0m \u001b[0mplotter\u001b[0m\u001b[0;34m(\u001b[0m\u001b[0mresult\u001b[0m\u001b[0;34m,\u001b[0m \u001b[0;36m1\u001b[0m\u001b[0;34m,\u001b[0m\u001b[0;36m1\u001b[0m\u001b[0;34m,\u001b[0m\u001b[0;36m1\u001b[0m \u001b[0;34m,\u001b[0m \u001b[0mplanet_position\u001b[0m\u001b[0;34m,\u001b[0m \u001b[0mproj\u001b[0m \u001b[0;34m=\u001b[0m \u001b[0;36m0\u001b[0m\u001b[0;34m,\u001b[0m \u001b[0mtarr\u001b[0m \u001b[0;34m=\u001b[0m \u001b[0mtarr\u001b[0m\u001b[0;34m)\u001b[0m\u001b[0;34m\u001b[0m\u001b[0;34m\u001b[0m\u001b[0m\n\u001b[1;32m      4\u001b[0m \u001b[0mplotter\u001b[0m\u001b[0;34m(\u001b[0m\u001b[0mresult\u001b[0m\u001b[0;34m,\u001b[0m \u001b[0;36m1\u001b[0m\u001b[0;34m,\u001b[0m\u001b[0;36m1\u001b[0m\u001b[0;34m,\u001b[0m\u001b[0;36m1\u001b[0m \u001b[0;34m,\u001b[0m \u001b[0mplanet_position\u001b[0m\u001b[0;34m,\u001b[0m \u001b[0mproj\u001b[0m \u001b[0;34m=\u001b[0m \u001b[0;36m2\u001b[0m\u001b[0;34m,\u001b[0m \u001b[0mtarr\u001b[0m \u001b[0;34m=\u001b[0m \u001b[0mtarr\u001b[0m\u001b[0;34m)\u001b[0m\u001b[0;34m\u001b[0m\u001b[0;34m\u001b[0m\u001b[0m\n\u001b[1;32m      5\u001b[0m \u001b[0mplotter\u001b[0m\u001b[0;34m(\u001b[0m\u001b[0mresult\u001b[0m\u001b[0;34m,\u001b[0m \u001b[0;36m1\u001b[0m\u001b[0;34m,\u001b[0m\u001b[0;36m1\u001b[0m\u001b[0;34m,\u001b[0m\u001b[0;36m1\u001b[0m \u001b[0;34m,\u001b[0m \u001b[0mplanet_position\u001b[0m\u001b[0;34m,\u001b[0m \u001b[0mproj\u001b[0m \u001b[0;34m=\u001b[0m \u001b[0;36m3\u001b[0m\u001b[0;34m,\u001b[0m \u001b[0mtarr\u001b[0m \u001b[0;34m=\u001b[0m \u001b[0mtarr\u001b[0m\u001b[0;34m)\u001b[0m\u001b[0;34m\u001b[0m\u001b[0;34m\u001b[0m\u001b[0m\n",
      "\u001b[0;32m<ipython-input-4-57cf2a047004>\u001b[0m in \u001b[0;36mbody3\u001b[0;34m(pos)\u001b[0m\n\u001b[1;32m     13\u001b[0m     \u001b[0mvelo\u001b[0m \u001b[0;34m=\u001b[0m \u001b[0mnp\u001b[0m\u001b[0;34m.\u001b[0m\u001b[0marray\u001b[0m\u001b[0;34m(\u001b[0m\u001b[0;34m[\u001b[0m\u001b[0mbody1Velo\u001b[0m\u001b[0;34m,\u001b[0m \u001b[0mbody2Velo\u001b[0m\u001b[0;34m,\u001b[0m \u001b[0mbody3Velo\u001b[0m\u001b[0;34m]\u001b[0m\u001b[0;34m)\u001b[0m\u001b[0;34m.\u001b[0m\u001b[0mflatten\u001b[0m\u001b[0;34m(\u001b[0m\u001b[0;34m)\u001b[0m\u001b[0;34m\u001b[0m\u001b[0;34m\u001b[0m\u001b[0m\n\u001b[1;32m     14\u001b[0m     \u001b[0mv0\u001b[0m \u001b[0;34m=\u001b[0m \u001b[0mnp\u001b[0m\u001b[0;34m.\u001b[0m\u001b[0marray\u001b[0m\u001b[0;34m(\u001b[0m\u001b[0;34m[\u001b[0m\u001b[0mpos\u001b[0m\u001b[0;34m,\u001b[0m \u001b[0mvelo\u001b[0m\u001b[0;34m]\u001b[0m\u001b[0;34m)\u001b[0m\u001b[0;34m.\u001b[0m\u001b[0mflatten\u001b[0m\u001b[0;34m(\u001b[0m\u001b[0;34m)\u001b[0m\u001b[0;34m\u001b[0m\u001b[0;34m\u001b[0m\u001b[0m\n\u001b[0;32m---> 15\u001b[0;31m     \u001b[0mresult\u001b[0m \u001b[0;34m=\u001b[0m \u001b[0mintegrate\u001b[0m\u001b[0;34m.\u001b[0m\u001b[0modeint\u001b[0m\u001b[0;34m(\u001b[0m\u001b[0mgs\u001b[0m\u001b[0;34m.\u001b[0m\u001b[0mdf_Nbody\u001b[0m\u001b[0;34m,\u001b[0m \u001b[0mv0\u001b[0m\u001b[0;34m,\u001b[0m \u001b[0mtarr\u001b[0m\u001b[0;34m,\u001b[0m \u001b[0margs\u001b[0m\u001b[0;34m=\u001b[0m\u001b[0;34m(\u001b[0m\u001b[0mmass\u001b[0m\u001b[0;34m,\u001b[0m \u001b[0mG\u001b[0m\u001b[0;34m,\u001b[0m \u001b[0;36m0.1\u001b[0m\u001b[0;34m)\u001b[0m\u001b[0;34m)\u001b[0m\u001b[0;34m\u001b[0m\u001b[0;34m\u001b[0m\u001b[0m\n\u001b[0m\u001b[1;32m     16\u001b[0m     \u001b[0;32mreturn\u001b[0m \u001b[0mresult\u001b[0m\u001b[0;34m\u001b[0m\u001b[0;34m\u001b[0m\u001b[0m\n",
      "\u001b[0;32m~/anaconda3/lib/python3.7/site-packages/scipy/integrate/odepack.py\u001b[0m in \u001b[0;36modeint\u001b[0;34m(func, y0, t, args, Dfun, col_deriv, full_output, ml, mu, rtol, atol, tcrit, h0, hmax, hmin, ixpr, mxstep, mxhnil, mxordn, mxords, printmessg, tfirst)\u001b[0m\n\u001b[1;32m    242\u001b[0m                              \u001b[0mfull_output\u001b[0m\u001b[0;34m,\u001b[0m \u001b[0mrtol\u001b[0m\u001b[0;34m,\u001b[0m \u001b[0matol\u001b[0m\u001b[0;34m,\u001b[0m \u001b[0mtcrit\u001b[0m\u001b[0;34m,\u001b[0m \u001b[0mh0\u001b[0m\u001b[0;34m,\u001b[0m \u001b[0mhmax\u001b[0m\u001b[0;34m,\u001b[0m \u001b[0mhmin\u001b[0m\u001b[0;34m,\u001b[0m\u001b[0;34m\u001b[0m\u001b[0;34m\u001b[0m\u001b[0m\n\u001b[1;32m    243\u001b[0m                              \u001b[0mixpr\u001b[0m\u001b[0;34m,\u001b[0m \u001b[0mmxstep\u001b[0m\u001b[0;34m,\u001b[0m \u001b[0mmxhnil\u001b[0m\u001b[0;34m,\u001b[0m \u001b[0mmxordn\u001b[0m\u001b[0;34m,\u001b[0m \u001b[0mmxords\u001b[0m\u001b[0;34m,\u001b[0m\u001b[0;34m\u001b[0m\u001b[0;34m\u001b[0m\u001b[0m\n\u001b[0;32m--> 244\u001b[0;31m                              int(bool(tfirst)))\n\u001b[0m\u001b[1;32m    245\u001b[0m     \u001b[0;32mif\u001b[0m \u001b[0moutput\u001b[0m\u001b[0;34m[\u001b[0m\u001b[0;34m-\u001b[0m\u001b[0;36m1\u001b[0m\u001b[0;34m]\u001b[0m \u001b[0;34m<\u001b[0m \u001b[0;36m0\u001b[0m\u001b[0;34m:\u001b[0m\u001b[0;34m\u001b[0m\u001b[0;34m\u001b[0m\u001b[0m\n\u001b[1;32m    246\u001b[0m         \u001b[0mwarning_msg\u001b[0m \u001b[0;34m=\u001b[0m \u001b[0m_msgs\u001b[0m\u001b[0;34m[\u001b[0m\u001b[0moutput\u001b[0m\u001b[0;34m[\u001b[0m\u001b[0;34m-\u001b[0m\u001b[0;36m1\u001b[0m\u001b[0;34m]\u001b[0m\u001b[0;34m]\u001b[0m \u001b[0;34m+\u001b[0m \u001b[0;34m\" Run with full_output = 1 to get quantitative information.\"\u001b[0m\u001b[0;34m\u001b[0m\u001b[0;34m\u001b[0m\u001b[0m\n",
      "\u001b[0;31mTypeError\u001b[0m: df_Nbody() takes from 3 to 4 positional arguments but 5 were given"
     ]
    }
   ],
   "source": [
    "planet_position = 100\n",
    "result = body3(planet_position)\n",
    "plotter(result, 1,1,1 , planet_position, proj = 0, tarr = tarr)\n",
    "plotter(result, 1,1,1 , planet_position, proj = 2, tarr = tarr)\n",
    "plotter(result, 1,1,1 , planet_position, proj = 3, tarr = tarr)\n",
    "plotter(result, 1,1,1 , planet_position, proj = 4, tarr = tarr)"
   ]
  },
  {
   "cell_type": "code",
   "execution_count": null,
   "metadata": {},
   "outputs": [],
   "source": []
  }
 ],
 "metadata": {
  "kernelspec": {
   "display_name": "Python 3",
   "language": "python",
   "name": "python3"
  },
  "language_info": {
   "codemirror_mode": {
    "name": "ipython",
    "version": 3
   },
   "file_extension": ".py",
   "mimetype": "text/x-python",
   "name": "python",
   "nbconvert_exporter": "python",
   "pygments_lexer": "ipython3",
   "version": "3.7.3"
  }
 },
 "nbformat": 4,
 "nbformat_minor": 2
}
