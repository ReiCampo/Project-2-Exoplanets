{
 "cells": [
  {
   "cell_type": "markdown",
   "metadata": {},
   "source": [
    "## Rei Campo\n",
    "### Sub Analysis: Finding The Thresholds for Stable Circumbinary Orbits"
   ]
  },
  {
   "cell_type": "code",
   "execution_count": 1,
   "metadata": {},
   "outputs": [],
   "source": [
    "import numpy as np\n",
    "import matplotlib.pyplot as plt\n",
    "%matplotlib inline\n",
    "import matplotlib\n",
    "from matplotlib import rcParams\n",
    "rcParams.update({'figure.autolayout': True})\n",
    "matplotlib.rcParams['mathtext.fontset'] = 'stix'\n",
    "matplotlib.rcParams['font.family'] = 'serif'\n",
    "matplotlib.rcParams['font.sans-serif'] = 'stix'\n",
    "from scipy import integrate\n",
    "from celluloid import Camera\n",
    "import gravSolve as gs\n",
    "import plotter as p\n",
    "from mpl_toolkits.mplot3d import Axes3D\n",
    "from matplotlib.animation import FFMpegWriter\n",
    "from matplotlib.animation import FuncAnimation\n",
    "from astropy import constants as const\n",
    "from astropy import units as u"
   ]
  },
  {
   "cell_type": "code",
   "execution_count": null,
   "metadata": {},
   "outputs": [],
   "source": []
  },
  {
   "cell_type": "code",
   "execution_count": 2,
   "metadata": {},
   "outputs": [],
   "source": [
    "#units used: AU, Msun, yr\n",
    "G = const.G.to('AU**3/Msun*yr**2').value\n",
    "M1 = 100\n",
    "M2 = 100\n",
    "M3 = .001\n",
    "e = 0.3300\n",
    "a = 0.326\n",
    "\n",
    "\n",
    "# kepler's laws\n",
    "Mtot = M1 + M2\n",
    "mu = M1 * M2 / Mtot\n",
    "ell = np.sqrt(G * Mtot * a * (1.0 - e**2))\n",
    "P = 2.0 * np.pi * np.sqrt(a**3 / (G * Mtot))\n",
    "\n",
    "# set initial conditions correpsonding to apoapsis\n",
    "rap = a * (1.0 + e)\n",
    "vap = ell / rap\n",
    "\n",
    "# positions and velocities of the two stars\n",
    "a1 = rap * mu / M1\n",
    "a2 = rap * mu / M2\n",
    "v1 = vap * mu / M1\n",
    "v2 = vap * mu / M2"
   ]
  },
  {
   "cell_type": "code",
   "execution_count": 3,
   "metadata": {},
   "outputs": [],
   "source": [
    "def body3(pos, p = 1, ϵ = 0.0001):\n",
    "    body1Pos = [a1, 0, 0] #(x,y,z)\n",
    "    body1Velo = [0, v1, 0] #(vx,vy,vz)\n",
    "\n",
    "    body2Pos = [-a2, 0, 0] #(x,y,z)\n",
    "    body2Velo = [0, -v2, 0] #(vx,vy,vz)\n",
    "\n",
    "    body3Pos = [pos, 0, 0]\n",
    "    body3Velo = [0, 0, 0]\n",
    "\n",
    "    mass = np.array([M1, M2, M3])\n",
    "    pos = np.array([body1Pos, body2Pos, body3Pos]).flatten()\n",
    "    velo = np.array([body1Velo, body2Velo, body3Velo]).flatten()\n",
    "    v0 = np.array([pos, velo]).flatten()\n",
    "    tarr = np.linspace(0.0, P * p, 1e3)\n",
    "    result = integrate.odeint(gs.df_Nbody, v0, tarr, args = (mass, G, ϵ))\n",
    "    return result, tarr"
   ]
  },
  {
   "cell_type": "code",
   "execution_count": 4,
   "metadata": {},
   "outputs": [
    {
     "name": "stderr",
     "output_type": "stream",
     "text": [
      "/Users/RachelCampo/anaconda3/lib/python3.7/site-packages/ipykernel_launcher.py:15: DeprecationWarning: object of type <class 'float'> cannot be safely interpreted as an integer.\n",
      "  from ipykernel import kernelapp as app\n"
     ]
    },
    {
     "ename": "TypeError",
     "evalue": "plotter() got multiple values for argument 'proj'",
     "output_type": "error",
     "traceback": [
      "\u001b[0;31m---------------------------------------------------------------------------\u001b[0m",
      "\u001b[0;31mTypeError\u001b[0m                                 Traceback (most recent call last)",
      "\u001b[0;32m<ipython-input-4-b0501d9b494f>\u001b[0m in \u001b[0;36m<module>\u001b[0;34m\u001b[0m\n\u001b[1;32m      1\u001b[0m \u001b[0mplanet_position\u001b[0m \u001b[0;34m=\u001b[0m \u001b[0;36m100\u001b[0m\u001b[0;34m\u001b[0m\u001b[0;34m\u001b[0m\u001b[0m\n\u001b[1;32m      2\u001b[0m \u001b[0mresult\u001b[0m\u001b[0;34m,\u001b[0m \u001b[0mtarr\u001b[0m \u001b[0;34m=\u001b[0m \u001b[0mbody3\u001b[0m\u001b[0;34m(\u001b[0m\u001b[0mplanet_position\u001b[0m\u001b[0;34m,\u001b[0m \u001b[0mp\u001b[0m \u001b[0;34m=\u001b[0m \u001b[0;36m1\u001b[0m\u001b[0;34m)\u001b[0m\u001b[0;34m\u001b[0m\u001b[0;34m\u001b[0m\u001b[0m\n\u001b[0;32m----> 3\u001b[0;31m \u001b[0mp\u001b[0m\u001b[0;34m.\u001b[0m\u001b[0mplotter\u001b[0m\u001b[0;34m(\u001b[0m\u001b[0mresult\u001b[0m\u001b[0;34m,\u001b[0m \u001b[0;36m1\u001b[0m\u001b[0;34m,\u001b[0m\u001b[0;36m1\u001b[0m\u001b[0;34m,\u001b[0m\u001b[0;36m0\u001b[0m \u001b[0;34m,\u001b[0m \u001b[0mplanet_position\u001b[0m\u001b[0;34m,\u001b[0m \u001b[0mproj\u001b[0m \u001b[0;34m=\u001b[0m \u001b[0;36m0\u001b[0m\u001b[0;34m,\u001b[0m \u001b[0mtarr\u001b[0m \u001b[0;34m=\u001b[0m \u001b[0mtarr\u001b[0m\u001b[0;34m)\u001b[0m\u001b[0;34m\u001b[0m\u001b[0;34m\u001b[0m\u001b[0m\n\u001b[0m\u001b[1;32m      4\u001b[0m \u001b[0mp\u001b[0m\u001b[0;34m.\u001b[0m\u001b[0mplotter\u001b[0m\u001b[0;34m(\u001b[0m\u001b[0mresult\u001b[0m\u001b[0;34m,\u001b[0m \u001b[0;36m1\u001b[0m\u001b[0;34m,\u001b[0m\u001b[0;36m1\u001b[0m\u001b[0;34m,\u001b[0m\u001b[0;36m0\u001b[0m \u001b[0;34m,\u001b[0m \u001b[0mplanet_position\u001b[0m\u001b[0;34m,\u001b[0m \u001b[0mproj\u001b[0m \u001b[0;34m=\u001b[0m \u001b[0;36m2\u001b[0m\u001b[0;34m,\u001b[0m \u001b[0mtarr\u001b[0m \u001b[0;34m=\u001b[0m \u001b[0mtarr\u001b[0m\u001b[0;34m)\u001b[0m\u001b[0;34m\u001b[0m\u001b[0;34m\u001b[0m\u001b[0m\n\u001b[1;32m      5\u001b[0m \u001b[0mp\u001b[0m\u001b[0;34m.\u001b[0m\u001b[0mplotter\u001b[0m\u001b[0;34m(\u001b[0m\u001b[0mresult\u001b[0m\u001b[0;34m,\u001b[0m \u001b[0;36m1\u001b[0m\u001b[0;34m,\u001b[0m\u001b[0;36m1\u001b[0m\u001b[0;34m,\u001b[0m\u001b[0;36m0\u001b[0m \u001b[0;34m,\u001b[0m \u001b[0mplanet_position\u001b[0m\u001b[0;34m,\u001b[0m \u001b[0mproj\u001b[0m \u001b[0;34m=\u001b[0m \u001b[0;36m4\u001b[0m\u001b[0;34m,\u001b[0m \u001b[0mtarr\u001b[0m \u001b[0;34m=\u001b[0m \u001b[0mtarr\u001b[0m\u001b[0;34m)\u001b[0m\u001b[0;34m\u001b[0m\u001b[0;34m\u001b[0m\u001b[0m\n",
      "\u001b[0;31mTypeError\u001b[0m: plotter() got multiple values for argument 'proj'"
     ]
    }
   ],
   "source": [
    "planet_position = 100\n",
    "result, tarr = body3(planet_position, p = 1)\n",
    "p.plotter(result, 1,1,0 , planet_position, proj = 0, tarr = tarr)\n",
    "p.plotter(result, 1,1,0 , planet_position, proj = 2, tarr = tarr)\n",
    "p.plotter(result, 1,1,0 , planet_position, proj = 4, tarr = tarr)"
   ]
  },
  {
   "cell_type": "code",
   "execution_count": null,
   "metadata": {},
   "outputs": [],
   "source": []
  }
 ],
 "metadata": {
  "kernelspec": {
   "display_name": "Python 3",
   "language": "python",
   "name": "python3"
  },
  "language_info": {
   "codemirror_mode": {
    "name": "ipython",
    "version": 3
   },
   "file_extension": ".py",
   "mimetype": "text/x-python",
   "name": "python",
   "nbconvert_exporter": "python",
   "pygments_lexer": "ipython3",
   "version": "3.7.3"
  }
 },
 "nbformat": 4,
 "nbformat_minor": 2
}
